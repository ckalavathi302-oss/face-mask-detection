{
 "cells": [
  {
   "cell_type": "code",
   "execution_count": 1,
   "id": "f8b67272-9653-4e81-9560-6a4e5db4f822",
   "metadata": {},
   "outputs": [],
   "source": [
    "import numpy as np\n",
    "import tensorflow as tf\n",
    "from tensorflow.keras.models import Sequential\n",
    "from tensorflow.keras.layers import Conv2D, MaxPooling2D, Flatten, Dense\n",
    "from tensorflow.keras.preprocessing.image import ImageDataGenerator\n",
    "import cv2\n",
    "import matplotlib.pyplot as plt"
   ]
  },
  {
   "cell_type": "code",
   "execution_count": 4,
   "id": "a5245aad-400e-47f5-b614-f11e9ffcb56a",
   "metadata": {},
   "outputs": [],
   "source": [
    "# Define the dataset paths\n",
    "train_dir = r\"C:\\Users\\ElavarasiChinnadurai\\OneDrive\\Desktop\\AI\\dataset\\train\"\n",
    "val_dir = r\"C:\\Users\\ElavarasiChinnadurai\\OneDrive\\Desktop\\AI\\dataset\\validation\""
   ]
  },
  {
   "cell_type": "code",
   "execution_count": 5,
   "id": "b42d5eb9-ed32-41b9-b69f-c05528c73e3c",
   "metadata": {},
   "outputs": [],
   "source": [
    "# Define the image dimensions\n",
    "img_height, img_width = 128, 128\n",
    "batch_size = 32"
   ]
  },
  {
   "cell_type": "code",
   "execution_count": 6,
   "id": "82da432a-3edb-4277-a35a-eca975717b6e",
   "metadata": {},
   "outputs": [
    {
     "name": "stdout",
     "output_type": "stream",
     "text": [
      "Found 101 images belonging to 2 classes.\n",
      "Found 101 images belonging to 2 classes.\n"
     ]
    }
   ],
   "source": [
    "# Create data generators for training and validation sets\n",
    "train_datagen = ImageDataGenerator(rescale=1./255)\n",
    "val_datagen = ImageDataGenerator(rescale=1./255)\n",
    "\n",
    "train_generator = train_datagen.flow_from_directory(\n",
    "    train_dir,\n",
    "    target_size=(img_height, img_width),\n",
    "    batch_size=batch_size,\n",
    "    class_mode='binary'\n",
    ")\n",
    "\n",
    "val_generator = val_datagen.flow_from_directory(\n",
    "    val_dir,\n",
    "    target_size=(img_height, img_width),\n",
    "    batch_size=batch_size,\n",
    "    class_mode='binary'\n",
    ")"
   ]
  },
  {
   "cell_type": "code",
   "execution_count": 22,
   "id": "f5d40aa3-c30b-45ca-9c96-772a97e0754e",
   "metadata": {},
   "outputs": [
    {
     "name": "stdout",
     "output_type": "stream",
     "text": [
      "{'with_mask': 0, 'without_mask': 1}\n"
     ]
    }
   ],
   "source": [
    "print(train_generator.class_indices)\n"
   ]
  },
  {
   "cell_type": "code",
   "execution_count": 23,
   "id": "b9456102-440b-4a2e-bc47-bbe8bd49d784",
   "metadata": {},
   "outputs": [],
   "source": [
    "# Define the model architecture\n",
    "from tensorflow.keras.layers import Input\n",
    "model = Sequential([\n",
    "    Conv2D(32, (3,3), activation='relu', input_shape=(128,128,3)),\n",
    "    MaxPooling2D(2,2),\n",
    "    Conv2D(64, (3,3), activation='relu'),\n",
    "    MaxPooling2D(2,2),\n",
    "    Flatten(),\n",
    "    Dense(128, activation='relu'),\n",
    "    Dense(1, activation='sigmoid')\n",
    "])\n"
   ]
  },
  {
   "cell_type": "code",
   "execution_count": 24,
   "id": "6f1131b6-fca9-4b84-89cf-ba57fb3d5638",
   "metadata": {},
   "outputs": [],
   "source": [
    "# Compile the model\n",
    "model.compile(optimizer='adam', loss='binary_crossentropy', metrics=['accuracy'])"
   ]
  },
  {
   "cell_type": "code",
   "execution_count": 25,
   "id": "6874238a-d869-4b84-97d0-f2bf5e3dc2a8",
   "metadata": {},
   "outputs": [
    {
     "name": "stdout",
     "output_type": "stream",
     "text": [
      "Epoch 1/10\n",
      "\u001b[1m4/4\u001b[0m \u001b[32m━━━━━━━━━━━━━━━━━━━━\u001b[0m\u001b[37m\u001b[0m \u001b[1m4s\u001b[0m 548ms/step - accuracy: 0.5545 - loss: 4.5987 - val_accuracy: 0.5248 - val_loss: 1.3091\n",
      "Epoch 2/10\n",
      "\u001b[1m4/4\u001b[0m \u001b[32m━━━━━━━━━━━━━━━━━━━━\u001b[0m\u001b[37m\u001b[0m \u001b[1m1s\u001b[0m 342ms/step - accuracy: 0.5446 - loss: 1.0082 - val_accuracy: 0.5644 - val_loss: 0.6447\n",
      "Epoch 3/10\n",
      "\u001b[1m4/4\u001b[0m \u001b[32m━━━━━━━━━━━━━━━━━━━━\u001b[0m\u001b[37m\u001b[0m \u001b[1m1s\u001b[0m 339ms/step - accuracy: 0.7030 - loss: 0.5642 - val_accuracy: 0.6832 - val_loss: 0.5148\n",
      "Epoch 4/10\n",
      "\u001b[1m4/4\u001b[0m \u001b[32m━━━━━━━━━━━━━━━━━━━━\u001b[0m\u001b[37m\u001b[0m \u001b[1m2s\u001b[0m 449ms/step - accuracy: 0.7921 - loss: 0.4421 - val_accuracy: 0.8218 - val_loss: 0.3823\n",
      "Epoch 5/10\n",
      "\u001b[1m4/4\u001b[0m \u001b[32m━━━━━━━━━━━━━━━━━━━━\u001b[0m\u001b[37m\u001b[0m \u001b[1m1s\u001b[0m 359ms/step - accuracy: 0.9109 - loss: 0.3171 - val_accuracy: 0.9208 - val_loss: 0.2570\n",
      "Epoch 6/10\n",
      "\u001b[1m4/4\u001b[0m \u001b[32m━━━━━━━━━━━━━━━━━━━━\u001b[0m\u001b[37m\u001b[0m \u001b[1m1s\u001b[0m 407ms/step - accuracy: 0.9208 - loss: 0.2079 - val_accuracy: 0.9505 - val_loss: 0.1359\n",
      "Epoch 7/10\n",
      "\u001b[1m4/4\u001b[0m \u001b[32m━━━━━━━━━━━━━━━━━━━━\u001b[0m\u001b[37m\u001b[0m \u001b[1m3s\u001b[0m 473ms/step - accuracy: 0.9307 - loss: 0.1625 - val_accuracy: 0.9010 - val_loss: 0.2273\n",
      "Epoch 8/10\n",
      "\u001b[1m4/4\u001b[0m \u001b[32m━━━━━━━━━━━━━━━━━━━━\u001b[0m\u001b[37m\u001b[0m \u001b[1m2s\u001b[0m 466ms/step - accuracy: 0.9406 - loss: 0.1652 - val_accuracy: 0.8812 - val_loss: 0.2747\n",
      "Epoch 9/10\n",
      "\u001b[1m4/4\u001b[0m \u001b[32m━━━━━━━━━━━━━━━━━━━━\u001b[0m\u001b[37m\u001b[0m \u001b[1m2s\u001b[0m 384ms/step - accuracy: 0.9406 - loss: 0.1714 - val_accuracy: 0.9901 - val_loss: 0.1158\n",
      "Epoch 10/10\n",
      "\u001b[1m4/4\u001b[0m \u001b[32m━━━━━━━━━━━━━━━━━━━━\u001b[0m\u001b[37m\u001b[0m \u001b[1m3s\u001b[0m 447ms/step - accuracy: 0.9802 - loss: 0.1044 - val_accuracy: 0.9604 - val_loss: 0.0697\n"
     ]
    }
   ],
   "source": [
    "# Train the model\n",
    "history = model.fit(\n",
    "    train_generator,\n",
    "    epochs=10,\n",
    "    validation_data=val_generator\n",
    ")"
   ]
  },
  {
   "cell_type": "code",
   "execution_count": 26,
   "id": "4a8b02f2-776f-4bef-acf8-cf3ea7c7ee16",
   "metadata": {},
   "outputs": [
    {
     "name": "stdout",
     "output_type": "stream",
     "text": [
      "\u001b[1m4/4\u001b[0m \u001b[32m━━━━━━━━━━━━━━━━━━━━\u001b[0m\u001b[37m\u001b[0m \u001b[1m0s\u001b[0m 74ms/step - accuracy: 0.9604 - loss: 0.0697\n",
      "Validation Loss: 0.07\n",
      "Validation Accuracy: 96.04%\n"
     ]
    }
   ],
   "source": [
    "# Evaluate the model\n",
    "loss, accuracy = model.evaluate(val_generator)\n",
    "print(f\"Validation Loss: {loss:.2f}\")\n",
    "print(f\"Validation Accuracy: {accuracy*100:.2f}%\")"
   ]
  },
  {
   "cell_type": "code",
   "execution_count": 27,
   "id": "55945ce2-ba51-4291-8e8c-57291ea726e2",
   "metadata": {},
   "outputs": [
    {
     "data": {
      "image/png": "[encoded data removed]",
      "text/plain": [
       "<Figure size 640x480 with 1 Axes>"
      ]
     },
     "metadata": {},
     "output_type": "display_data"
    }
   ],
   "source": [
    "# Plot the training and validation accuracy\n",
    "plt.plot(history.history['accuracy'], label='Training Accuracy')\n",
    "plt.plot(history.history['val_accuracy'], label='Validation Accuracy')\n",
    "plt.legend()\n",
    "plt.show()"
   ]
  },
  {
   "cell_type": "code",
   "execution_count": 33,
   "id": "44152d25-1441-4ed2-a4c0-d6fbf0940697",
   "metadata": {},
   "outputs": [],
   "source": [
    "image_path = r\"C:\\Users\\ElavarasiChinnadurai\\OneDrive\\Desktop\\AI\\dataset\\validation\\with_mask\\with_mask (1748).jpg\"\n",
    "def predict_mask(image_path):\n",
    "    img = cv2.imread(image_path)\n",
    "    img = cv2.resize(img, (128, 128))\n",
    "    img = img / 255.0\n",
    "    img = np.expand_dims(img, axis=0)\n",
    "    pred_prob = model.predict(img)[0][0]\n",
    "    # Flip the threshold direction if \"with_mask\" label is 0\n",
    "    if pred_prob < 0.5:\n",
    "        print(f\"With Mask, Confidence: {(1-pred_prob)*100:.2f}%\")\n",
    "    else:\n",
    "        print(f\"Without Mask, Confidence: {pred_prob*100:.2f}%\")"
   ]
  },
  {
   "cell_type": "code",
   "execution_count": 37,
   "id": "c3cc9359-6546-43d5-9240-61965a0e278b",
   "metadata": {},
   "outputs": [
    {
     "name": "stdout",
     "output_type": "stream",
     "text": [
      "\u001b[1m1/1\u001b[0m \u001b[32m━━━━━━━━━━━━━━━━━━━━\u001b[0m\u001b[37m\u001b[0m \u001b[1m0s\u001b[0m 77ms/step\n",
      "With Mask, Confidence: 99.40%\n"
     ]
    }
   ],
   "source": [
    "# Use the model to make predictions\n",
    "\n",
    "image_path = r\"C:\\Users\\ElavarasiChinnadurai\\OneDrive\\Desktop\\AI\\dataset\\validation\\with_mask\\with_mask (1748).jpg\"\n",
    "\n",
    "def predict_mask(image_path):\n",
    "    img = cv2.imread(image_path)\n",
    "    img = cv2.resize(img, (128, 128))\n",
    "    img = img / 255.0\n",
    "    img = np.expand_dims(img, axis=0)\n",
    "    pred_prob = model.predict(img)[0][0]\n",
    "    if pred_prob < 0.5:  # Changed pred to pred_prob\n",
    "        print(f\"With Mask, Confidence: {(1-pred_prob)*100:.2f}%\")\n",
    "    else:\n",
    "        print(f\"Without Mask, Confidence: {pred_prob*100:.2f}%\")\n",
    "\n",
    "# Test the model\n",
    "predict_mask(image_path)"
   ]
  },
  {
   "cell_type": "code",
   "execution_count": 38,
   "id": "d5f4d531-30a1-4b56-87b2-f0945e641633",
   "metadata": {},
   "outputs": [
    {
     "name": "stdout",
     "output_type": "stream",
     "text": [
      "\u001b[1m1/1\u001b[0m \u001b[32m━━━━━━━━━━━━━━━━━━━━\u001b[0m\u001b[37m\u001b[0m \u001b[1m0s\u001b[0m 68ms/step\n",
      "Without Mask, Confidence: 98.22%\n"
     ]
    }
   ],
   "source": [
    "import cv2\n",
    "import numpy as np\n",
    "\n",
    "# Load the image\n",
    "img = cv2.imread(r\"C:\\Users\\ElavarasiChinnadurai\\OneDrive\\Desktop\\AI\\dataset\\validation\\without_mask\\without_mask (27).jpg\")\n",
    "img = cv2.resize(img, (128, 128))\n",
    "img = img / 255.0\n",
    "img = np.expand_dims(img, axis=0)\n",
    "\n",
    "# Make a prediction\n",
    "pred = model.predict(img)\n",
    "\n",
    "# Print the prediction\n",
    "if pred > 0.5:\n",
    "    print(\"With Mask, Confidence: {:.2f}%\".format(pred[0][0]*100))\n",
    "else:\n",
    "    print(\"Without Mask, Confidence: {:.2f}%\".format((1-pred[0][0])*100))"
   ]
  }
 ],
 "metadata": {
  "kernelspec": {
   "display_name": "Python 3 (ipykernel)",
   "language": "python",
   "name": "python3"
  },
  "language_info": {
   "codemirror_mode": {
    "name": "ipython",
    "version": 3
   },
   "file_extension": ".py",
   "mimetype": "text/x-python",
   "name": "python",
   "nbconvert_exporter": "python",
   "pygments_lexer": "ipython3",
   "version": "3.13.5"
  }
 },
 "nbformat": 4,
 "nbformat_minor": 5
}
